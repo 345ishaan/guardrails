{
 "cells": [
  {
   "cell_type": "code",
   "execution_count": 2,
   "metadata": {},
   "outputs": [],
   "source": [
    "import logging\n",
    "\n",
    "import rich\n",
    "import openai\n",
    "\n",
    "import guardrails as gd"
   ]
  },
  {
   "cell_type": "code",
   "execution_count": 3,
   "metadata": {},
   "outputs": [
    {
     "name": "stderr",
     "output_type": "stream",
     "text": [
      "/Users/shreyarajpal/guardrails/guardrails/datatypes.py:53: UserWarning: Formatter 1-indexed is not valid for element integer.\n",
      "  warnings.warn(\n",
      "/Users/shreyarajpal/guardrails/guardrails/datatypes.py:53: UserWarning: Formatter percentage is not valid for element float.\n",
      "  warnings.warn(\n",
      "/Users/shreyarajpal/guardrails/guardrails/datatypes.py:53: UserWarning: Formatter tone-twitter explain-high-quality is not valid for element string.\n",
      "  warnings.warn(\n",
      "/Users/shreyarajpal/guardrails/guardrails/datatypes.py:53: UserWarning: Formatter tagline tv-ad is not valid for element string.\n",
      "  warnings.warn(\n"
     ]
    }
   ],
   "source": [
    "guard = gd.Guard.from_rail('guardrails/prompt_v2.xml')"
   ]
  },
  {
   "cell_type": "code",
   "execution_count": 4,
   "metadata": {},
   "outputs": [
    {
     "data": {
      "text/plain": [
       "<bound method Validator.noop of <guardrails.validators.LowerCase object at 0x7ff4b0730a90>>"
      ]
     },
     "execution_count": 4,
     "metadata": {},
     "output_type": "execute_result"
    }
   ],
   "source": [
    "guard.output_schema.fees.children.item.children.name.validators[0].on_fail"
   ]
  },
  {
   "cell_type": "code",
   "execution_count": 5,
   "metadata": {},
   "outputs": [
    {
     "data": {
      "text/html": [
       "<pre style=\"white-space:pre;overflow-x:auto;line-height:normal;font-family:Menlo,'DejaVu Sans Mono',consolas,'Courier New',monospace\">\n",
       "\n",
       "Given the following document, answer the following questions. If the answer doesn't exist in the document, enter \n",
       "<span style=\"color: #008000; text-decoration-color: #008000\">'None'</span>.\n",
       "\n",
       "<span style=\"font-weight: bold\">{</span>document<span style=\"font-weight: bold\">}</span>\n",
       "\n",
       "\n",
       "Given below is XML that describes the information to extract from this document and the tags to extract it into.\n",
       "\n",
       "\n",
       "<span style=\"font-weight: bold\">&lt;</span><span style=\"color: #ff00ff; text-decoration-color: #ff00ff; font-weight: bold\">output</span><span style=\"color: #000000; text-decoration-color: #000000\">&gt;</span>\n",
       "<span style=\"color: #000000; text-decoration-color: #000000\">    &lt;list </span><span style=\"color: #808000; text-decoration-color: #808000\">name</span><span style=\"color: #000000; text-decoration-color: #000000\">=</span><span style=\"color: #008000; text-decoration-color: #008000\">\"fees\"</span><span style=\"color: #000000; text-decoration-color: #000000\"> </span><span style=\"color: #808000; text-decoration-color: #808000\">description</span><span style=\"color: #000000; text-decoration-color: #000000\">=</span><span style=\"color: #008000; text-decoration-color: #008000\">\"What fees and charges are associated with my account?\"</span><span style=\"color: #000000; text-decoration-color: #000000\">&gt;</span>\n",
       "<span style=\"color: #000000; text-decoration-color: #000000\">        &lt;object&gt;</span>\n",
       "<span style=\"color: #000000; text-decoration-color: #000000\">            &lt;integer </span><span style=\"color: #808000; text-decoration-color: #808000\">name</span><span style=\"color: #000000; text-decoration-color: #000000\">=</span><span style=\"color: #008000; text-decoration-color: #008000\">\"index\"</span><span style=\"color: #000000; text-decoration-color: #000000\"> </span><span style=\"color: #808000; text-decoration-color: #808000\">format</span><span style=\"color: #000000; text-decoration-color: #000000\">=</span><span style=\"color: #008000; text-decoration-color: #008000\">\"1-indexed\"</span><span style=\"color: #800080; text-decoration-color: #800080\">/</span><span style=\"color: #000000; text-decoration-color: #000000\">&gt;</span>\n",
       "<span style=\"color: #000000; text-decoration-color: #000000\">            &lt;string </span><span style=\"color: #808000; text-decoration-color: #808000\">name</span><span style=\"color: #000000; text-decoration-color: #000000\">=</span><span style=\"color: #008000; text-decoration-color: #008000\">\"name\"</span><span style=\"color: #000000; text-decoration-color: #000000\"> </span><span style=\"color: #808000; text-decoration-color: #808000\">format</span><span style=\"color: #000000; text-decoration-color: #000000\">=</span><span style=\"color: #008000; text-decoration-color: #008000\">\"lower-case; two-words\"</span><span style=\"color: #800080; text-decoration-color: #800080\">/</span><span style=\"color: #000000; text-decoration-color: #000000\">&gt;</span>\n",
       "<span style=\"color: #000000; text-decoration-color: #000000\">            &lt;string </span><span style=\"color: #808000; text-decoration-color: #808000\">name</span><span style=\"color: #000000; text-decoration-color: #000000\">=</span><span style=\"color: #008000; text-decoration-color: #008000\">\"explanation\"</span><span style=\"color: #000000; text-decoration-color: #000000\"> </span><span style=\"color: #808000; text-decoration-color: #808000\">format</span><span style=\"color: #000000; text-decoration-color: #000000\">=</span><span style=\"color: #008000; text-decoration-color: #008000\">\"one-line\"</span><span style=\"color: #800080; text-decoration-color: #800080\">/</span><span style=\"color: #000000; text-decoration-color: #000000\">&gt;</span>\n",
       "<span style=\"color: #000000; text-decoration-color: #000000\">            &lt;float </span><span style=\"color: #808000; text-decoration-color: #808000\">name</span><span style=\"color: #000000; text-decoration-color: #000000\">=</span><span style=\"color: #008000; text-decoration-color: #008000\">\"value\"</span><span style=\"color: #000000; text-decoration-color: #000000\"> </span><span style=\"color: #808000; text-decoration-color: #808000\">format</span><span style=\"color: #000000; text-decoration-color: #000000\">=</span><span style=\"color: #008000; text-decoration-color: #008000\">\"percentage\"</span><span style=\"color: #800080; text-decoration-color: #800080\">/</span><span style=\"color: #000000; text-decoration-color: #000000\">&gt;</span>\n",
       "<span style=\"color: #000000; text-decoration-color: #000000\">            &lt;string </span><span style=\"color: #808000; text-decoration-color: #808000\">name</span><span style=\"color: #000000; text-decoration-color: #000000\">=</span><span style=\"color: #008000; text-decoration-color: #008000\">\"description\"</span><span style=\"color: #000000; text-decoration-color: #000000\"> </span><span style=\"color: #808000; text-decoration-color: #808000\">format</span><span style=\"color: #000000; text-decoration-color: #000000\">=</span><span style=\"color: #008000; text-decoration-color: #008000\">\"length: 0 200\"</span><span style=\"color: #800080; text-decoration-color: #800080\">/</span><span style=\"color: #000000; text-decoration-color: #000000\">&gt;</span>\n",
       "<span style=\"color: #000000; text-decoration-color: #000000\">            &lt;string </span><span style=\"color: #808000; text-decoration-color: #808000\">name</span><span style=\"color: #000000; text-decoration-color: #000000\">=</span><span style=\"color: #008000; text-decoration-color: #008000\">\"example\"</span><span style=\"color: #000000; text-decoration-color: #000000\"> </span><span style=\"color: #808000; text-decoration-color: #808000\">required</span><span style=\"color: #000000; text-decoration-color: #000000\">=</span><span style=\"color: #008000; text-decoration-color: #008000\">\"True\"</span><span style=\"color: #000000; text-decoration-color: #000000\"> </span><span style=\"color: #808000; text-decoration-color: #808000\">format</span><span style=\"color: #000000; text-decoration-color: #000000\">=</span><span style=\"color: #008000; text-decoration-color: #008000\">\"tone-twitter explain-high-quality\"</span><span style=\"color: #800080; text-decoration-color: #800080\">/</span><span style=\"color: #000000; text-decoration-color: #000000\">&gt;</span>\n",
       "<span style=\"color: #000000; text-decoration-color: #000000\">            &lt;string </span><span style=\"color: #808000; text-decoration-color: #808000\">name</span><span style=\"color: #000000; text-decoration-color: #000000\">=</span><span style=\"color: #008000; text-decoration-color: #008000\">\"advertisement\"</span><span style=\"color: #000000; text-decoration-color: #000000\"> </span><span style=\"color: #808000; text-decoration-color: #808000\">format</span><span style=\"color: #000000; text-decoration-color: #000000\">=</span><span style=\"color: #008000; text-decoration-color: #008000\">\"tagline tv-ad\"</span><span style=\"color: #800080; text-decoration-color: #800080\">/</span><span style=\"color: #000000; text-decoration-color: #000000\">&gt;</span>\n",
       "<span style=\"color: #000000; text-decoration-color: #000000\">        &lt;</span><span style=\"color: #800080; text-decoration-color: #800080\">/</span><span style=\"color: #ff00ff; text-decoration-color: #ff00ff\">object</span><span style=\"color: #000000; text-decoration-color: #000000\">&gt;</span>\n",
       "<span style=\"color: #000000; text-decoration-color: #000000\">    &lt;</span><span style=\"color: #800080; text-decoration-color: #800080\">/</span><span style=\"color: #ff00ff; text-decoration-color: #ff00ff\">list</span><span style=\"color: #000000; text-decoration-color: #000000\">&gt;</span>\n",
       "<span style=\"color: #000000; text-decoration-color: #000000\">    &lt;string </span><span style=\"color: #808000; text-decoration-color: #808000\">name</span><span style=\"color: #000000; text-decoration-color: #000000\">=</span><span style=\"color: #008000; text-decoration-color: #008000\">\"interest_rates\"</span><span style=\"color: #000000; text-decoration-color: #000000\"> </span><span style=\"color: #808000; text-decoration-color: #808000\">description</span><span style=\"color: #000000; text-decoration-color: #000000\">=</span><span style=\"color: #008000; text-decoration-color: #008000\">\"What are the interest rates offered by the bank on savings and </span>\n",
       "<span style=\"color: #008000; text-decoration-color: #008000\">checking accounts, loans, and credit products?\"</span><span style=\"color: #000000; text-decoration-color: #000000\"> </span><span style=\"color: #808000; text-decoration-color: #808000\">format</span><span style=\"color: #000000; text-decoration-color: #000000\">=</span><span style=\"color: #008000; text-decoration-color: #008000\">\"one-line\"</span><span style=\"color: #800080; text-decoration-color: #800080\">/</span><span style=\"color: #000000; text-decoration-color: #000000\">&gt;</span>\n",
       "<span style=\"color: #000000; text-decoration-color: #000000\">&lt;</span><span style=\"color: #800080; text-decoration-color: #800080\">/</span><span style=\"color: #ff00ff; text-decoration-color: #ff00ff\">output</span><span style=\"font-weight: bold\">&gt;</span>\n",
       "\n",
       "\n",
       "\n",
       "\n",
       "Return a valid JSON object that respects this XML format and extracts only the information requested in this \n",
       "document. Respect the types indicated in the XML -- the information you extract should be converted into the \n",
       "correct <span style=\"color: #008000; text-decoration-color: #008000\">'type'</span>. Try to be as correct and concise as possible. Find all relevant information in the document. If you\n",
       "are unsure of the answer, enter <span style=\"color: #008000; text-decoration-color: #008000\">'None'</span>. If you answer incorrectly, you will be asked again until you get it right \n",
       "which is expensive.\n",
       "\n",
       "</pre>\n"
      ],
      "text/plain": [
       "\n",
       "\n",
       "Given the following document, answer the following questions. If the answer doesn't exist in the document, enter \n",
       "\u001b[32m'None'\u001b[0m.\n",
       "\n",
       "\u001b[1m{\u001b[0mdocument\u001b[1m}\u001b[0m\n",
       "\n",
       "\n",
       "Given below is XML that describes the information to extract from this document and the tags to extract it into.\n",
       "\n",
       "\n",
       "\u001b[1m<\u001b[0m\u001b[1;95moutput\u001b[0m\u001b[39m>\u001b[0m\n",
       "\u001b[39m    <list \u001b[0m\u001b[33mname\u001b[0m\u001b[39m=\u001b[0m\u001b[32m\"fees\"\u001b[0m\u001b[39m \u001b[0m\u001b[33mdescription\u001b[0m\u001b[39m=\u001b[0m\u001b[32m\"What\u001b[0m\u001b[32m fees and charges are associated with my account?\"\u001b[0m\u001b[39m>\u001b[0m\n",
       "\u001b[39m        <object>\u001b[0m\n",
       "\u001b[39m            <integer \u001b[0m\u001b[33mname\u001b[0m\u001b[39m=\u001b[0m\u001b[32m\"index\"\u001b[0m\u001b[39m \u001b[0m\u001b[33mformat\u001b[0m\u001b[39m=\u001b[0m\u001b[32m\"1\u001b[0m\u001b[32m-indexed\"\u001b[0m\u001b[35m/\u001b[0m\u001b[39m>\u001b[0m\n",
       "\u001b[39m            <string \u001b[0m\u001b[33mname\u001b[0m\u001b[39m=\u001b[0m\u001b[32m\"name\"\u001b[0m\u001b[39m \u001b[0m\u001b[33mformat\u001b[0m\u001b[39m=\u001b[0m\u001b[32m\"lower\u001b[0m\u001b[32m-case; two-words\"\u001b[0m\u001b[35m/\u001b[0m\u001b[39m>\u001b[0m\n",
       "\u001b[39m            <string \u001b[0m\u001b[33mname\u001b[0m\u001b[39m=\u001b[0m\u001b[32m\"explanation\"\u001b[0m\u001b[39m \u001b[0m\u001b[33mformat\u001b[0m\u001b[39m=\u001b[0m\u001b[32m\"one\u001b[0m\u001b[32m-line\"\u001b[0m\u001b[35m/\u001b[0m\u001b[39m>\u001b[0m\n",
       "\u001b[39m            <float \u001b[0m\u001b[33mname\u001b[0m\u001b[39m=\u001b[0m\u001b[32m\"value\"\u001b[0m\u001b[39m \u001b[0m\u001b[33mformat\u001b[0m\u001b[39m=\u001b[0m\u001b[32m\"percentage\"\u001b[0m\u001b[35m/\u001b[0m\u001b[39m>\u001b[0m\n",
       "\u001b[39m            <string \u001b[0m\u001b[33mname\u001b[0m\u001b[39m=\u001b[0m\u001b[32m\"description\"\u001b[0m\u001b[39m \u001b[0m\u001b[33mformat\u001b[0m\u001b[39m=\u001b[0m\u001b[32m\"length\u001b[0m\u001b[32m: 0 200\"\u001b[0m\u001b[35m/\u001b[0m\u001b[39m>\u001b[0m\n",
       "\u001b[39m            <string \u001b[0m\u001b[33mname\u001b[0m\u001b[39m=\u001b[0m\u001b[32m\"example\"\u001b[0m\u001b[39m \u001b[0m\u001b[33mrequired\u001b[0m\u001b[39m=\u001b[0m\u001b[32m\"True\"\u001b[0m\u001b[39m \u001b[0m\u001b[33mformat\u001b[0m\u001b[39m=\u001b[0m\u001b[32m\"tone\u001b[0m\u001b[32m-twitter explain-high-quality\"\u001b[0m\u001b[35m/\u001b[0m\u001b[39m>\u001b[0m\n",
       "\u001b[39m            <string \u001b[0m\u001b[33mname\u001b[0m\u001b[39m=\u001b[0m\u001b[32m\"advertisement\"\u001b[0m\u001b[39m \u001b[0m\u001b[33mformat\u001b[0m\u001b[39m=\u001b[0m\u001b[32m\"tagline\u001b[0m\u001b[32m tv-ad\"\u001b[0m\u001b[35m/\u001b[0m\u001b[39m>\u001b[0m\n",
       "\u001b[39m        <\u001b[0m\u001b[35m/\u001b[0m\u001b[95mobject\u001b[0m\u001b[39m>\u001b[0m\n",
       "\u001b[39m    <\u001b[0m\u001b[35m/\u001b[0m\u001b[95mlist\u001b[0m\u001b[39m>\u001b[0m\n",
       "\u001b[39m    <string \u001b[0m\u001b[33mname\u001b[0m\u001b[39m=\u001b[0m\u001b[32m\"interest_rates\"\u001b[0m\u001b[39m \u001b[0m\u001b[33mdescription\u001b[0m\u001b[39m=\u001b[0m\u001b[32m\"What\u001b[0m\u001b[32m are the interest rates offered by the bank on savings and \u001b[0m\n",
       "\u001b[32mchecking accounts, loans, and credit products?\"\u001b[0m\u001b[39m \u001b[0m\u001b[33mformat\u001b[0m\u001b[39m=\u001b[0m\u001b[32m\"one\u001b[0m\u001b[32m-line\"\u001b[0m\u001b[35m/\u001b[0m\u001b[39m>\u001b[0m\n",
       "\u001b[39m<\u001b[0m\u001b[35m/\u001b[0m\u001b[95moutput\u001b[0m\u001b[1m>\u001b[0m\n",
       "\n",
       "\n",
       "\n",
       "\n",
       "Return a valid JSON object that respects this XML format and extracts only the information requested in this \n",
       "document. Respect the types indicated in the XML -- the information you extract should be converted into the \n",
       "correct \u001b[32m'type'\u001b[0m. Try to be as correct and concise as possible. Find all relevant information in the document. If you\n",
       "are unsure of the answer, enter \u001b[32m'None'\u001b[0m. If you answer incorrectly, you will be asked again until you get it right \n",
       "which is expensive.\n",
       "\n"
      ]
     },
     "metadata": {},
     "output_type": "display_data"
    }
   ],
   "source": [
    "rich.print(guard.base_prompt)"
   ]
  },
  {
   "cell_type": "code",
   "execution_count": 6,
   "metadata": {},
   "outputs": [],
   "source": [
    "content = gd.docs_utils.read_pdf('data/chase_card_agreement.pdf')\n",
    "# response, response_as_dict, validated_response = guard.ask_with_validation(content[:6000])"
   ]
  },
  {
   "cell_type": "code",
   "execution_count": 7,
   "metadata": {},
   "outputs": [
    {
     "name": "stdout",
     "output_type": "stream",
     "text": [
      "\n",
      "\n",
      "Given the following document, answer the following questions. If the answer doesn't exist in the document, enter 'None'.\n",
      "\n",
      "{document}\n",
      "\n",
      "\n",
      "Given below is XML that describes the information to extract from this document and the tags to extract it into.\n",
      "\n",
      "\n",
      "<output>\n",
      "    <list name=\"fees\" description=\"What fees and charges are associated with my account?\">\n",
      "        <object>\n",
      "            <integer name=\"index\" format=\"1-indexed\"/>\n",
      "            <string name=\"name\" format=\"lower-case; two-words\"/>\n",
      "            <string name=\"explanation\" format=\"one-line\"/>\n",
      "            <float name=\"value\" format=\"percentage\"/>\n",
      "            <string name=\"description\" format=\"length: 0 200\"/>\n",
      "            <string name=\"example\" required=\"True\" format=\"tone-twitter explain-high-quality\"/>\n",
      "            <string name=\"advertisement\" format=\"tagline tv-ad\"/>\n",
      "        </object>\n",
      "    </list>\n",
      "    <string name=\"interest_rates\" description=\"What are the interest rates offered by the bank on savings and checking accounts, loans, and credit products?\" format=\"one-line\"/>\n",
      "</output>\n",
      "\n",
      "\n",
      "\n",
      "\n",
      "Return a valid JSON object that respects this XML format and extracts only the information requested in this document. Respect the types indicated in the XML -- the information you extract should be converted into the correct 'type'. Try to be as correct and concise as possible. Find all relevant information in the document. If you are unsure of the answer, enter 'None'. If you answer incorrectly, you will be asked again until you get it right which is expensive.\n",
      "\n"
     ]
    }
   ],
   "source": [
    "print(guard.base_prompt)"
   ]
  },
  {
   "cell_type": "code",
   "execution_count": 9,
   "metadata": {},
   "outputs": [],
   "source": [
    "response, validated_response = guard(openai.Completion.create, prompt_params={'document': content[:6000]}, engine='text-davinci-003', max_tokens=2048, temperature=0)"
   ]
  },
  {
   "cell_type": "code",
   "execution_count": 10,
   "metadata": {},
   "outputs": [
    {
     "data": {
      "text/html": [
       "<pre style=\"white-space:pre;overflow-x:auto;line-height:normal;font-family:Menlo,'DejaVu Sans Mono',consolas,'Courier New',monospace\"><span style=\"font-weight: bold\">{</span>\n",
       "    <span style=\"color: #008000; text-decoration-color: #008000\">'fees'</span>: <span style=\"font-weight: bold\">[</span>\n",
       "        <span style=\"font-weight: bold\">{</span>\n",
       "            <span style=\"color: #008000; text-decoration-color: #008000\">'index'</span>: <span style=\"color: #008080; text-decoration-color: #008080; font-weight: bold\">1</span>,\n",
       "            <span style=\"color: #008000; text-decoration-color: #008000\">'name'</span>: <span style=\"color: #008000; text-decoration-color: #008000\">'annual membership'</span>,\n",
       "            <span style=\"color: #008000; text-decoration-color: #008000\">'explanation'</span>: <span style=\"color: #008000; text-decoration-color: #008000\">'annual membership fee'</span>,\n",
       "            <span style=\"color: #008000; text-decoration-color: #008000\">'value'</span>: <span style=\"color: #008080; text-decoration-color: #008080; font-weight: bold\">0</span>,\n",
       "            <span style=\"color: #008000; text-decoration-color: #008000\">'description'</span>: <span style=\"color: #008000; text-decoration-color: #008000\">'None'</span>,\n",
       "            <span style=\"color: #008000; text-decoration-color: #008000\">'example'</span>: <span style=\"color: #008000; text-decoration-color: #008000\">'None'</span>,\n",
       "            <span style=\"color: #008000; text-decoration-color: #008000\">'advertisement'</span>: <span style=\"color: #008000; text-decoration-color: #008000\">'None'</span>\n",
       "        <span style=\"font-weight: bold\">}</span>,\n",
       "        <span style=\"font-weight: bold\">{</span>\n",
       "            <span style=\"color: #008000; text-decoration-color: #008000\">'index'</span>: <span style=\"color: #008080; text-decoration-color: #008080; font-weight: bold\">2</span>,\n",
       "            <span style=\"color: #008000; text-decoration-color: #008000\">'name'</span>: <span style=\"color: #008000; text-decoration-color: #008000\">'maximum recursion'</span>,\n",
       "            <span style=\"color: #008000; text-decoration-color: #008000\">'explanation'</span>: <span style=\"color: #008000; text-decoration-color: #008000\">'fixed finance charge'</span>,\n",
       "            <span style=\"color: #008000; text-decoration-color: #008000\">'value'</span>: <span style=\"color: #008080; text-decoration-color: #008080; font-weight: bold\">1.72</span>,\n",
       "            <span style=\"color: #008000; text-decoration-color: #008000\">'description'</span>: <span style=\"color: #008000; text-decoration-color: #008000\">'Monthly fee of 0% of the amount of each eligible purchase transaction or amount </span>\n",
       "<span style=\"color: #008000; text-decoration-color: #008000\">selected to create a My Chase Plan while in the 0% Intro Purchase APR period. After that, monthly fee of 1.72% of </span>\n",
       "<span style=\"color: #008000; text-decoration-color: #008000\">the amount of each eligible purchase transaction or amount selected to create a My Chase Plan. The My Chase Plan </span>\n",
       "<span style=\"color: #008000; text-decoration-color: #008000\">Fee will be determined at the time each My Chase Plan is created and will remain the same until the My Chase Plan </span>\n",
       "<span style=\"color: #008000; text-decoration-color: #008000\">is paid in full.'</span>,\n",
       "            <span style=\"color: #008000; text-decoration-color: #008000\">'example'</span>: <span style=\"color: #008000; text-decoration-color: #008000\">'None'</span>,\n",
       "            <span style=\"color: #008000; text-decoration-color: #008000\">'advertisement'</span>: <span style=\"color: #008000; text-decoration-color: #008000\">'None'</span>\n",
       "        <span style=\"font-weight: bold\">}</span>,\n",
       "        <span style=\"font-weight: bold\">{</span>\n",
       "            <span style=\"color: #008000; text-decoration-color: #008000\">'index'</span>: <span style=\"color: #008080; text-decoration-color: #008080; font-weight: bold\">3</span>,\n",
       "            <span style=\"color: #008000; text-decoration-color: #008000\">'name'</span>: <span style=\"color: #008000; text-decoration-color: #008000\">'balance transfers'</span>,\n",
       "            <span style=\"color: #008000; text-decoration-color: #008000\">'explanation'</span>: <span style=\"color: #008000; text-decoration-color: #008000\">'intro fee'</span>,\n",
       "            <span style=\"color: #008000; text-decoration-color: #008000\">'value'</span>: <span style=\"color: #008080; text-decoration-color: #008080; font-weight: bold\">5</span>,\n",
       "            <span style=\"color: #008000; text-decoration-color: #008000\">'description'</span>: <span style=\"color: #008000; text-decoration-color: #008000\">'Intro fee of either $5 or 3% of the amount of each transfer, whichever is greater, on </span>\n",
       "<span style=\"color: #008000; text-decoration-color: #008000\">transfers made within 60 days of account opening. After that: Either $5 or 5% of the amount of each transfer, </span>\n",
       "<span style=\"color: #008000; text-decoration-color: #008000\">whichever is greater.'</span>,\n",
       "            <span style=\"color: #008000; text-decoration-color: #008000\">'example'</span>: <span style=\"color: #008000; text-decoration-color: #008000\">'None'</span>,\n",
       "            <span style=\"color: #008000; text-decoration-color: #008000\">'advertisement'</span>: <span style=\"color: #008000; text-decoration-color: #008000\">'None'</span>\n",
       "        <span style=\"font-weight: bold\">}</span>,\n",
       "        <span style=\"font-weight: bold\">{</span>\n",
       "            <span style=\"color: #008000; text-decoration-color: #008000\">'index'</span>: <span style=\"color: #008080; text-decoration-color: #008080; font-weight: bold\">4</span>,\n",
       "            <span style=\"color: #008000; text-decoration-color: #008000\">'name'</span>: <span style=\"color: #008000; text-decoration-color: #008000\">'cash advances'</span>,\n",
       "            <span style=\"color: #008000; text-decoration-color: #008000\">'explanation'</span>: <span style=\"color: #008000; text-decoration-color: #008000\">'transaction fee'</span>,\n",
       "            <span style=\"color: #008000; text-decoration-color: #008000\">'value'</span>: <span style=\"color: #008080; text-decoration-color: #008080; font-weight: bold\">5</span>,\n",
       "            <span style=\"color: #008000; text-decoration-color: #008000\">'description'</span>: <span style=\"color: #008000; text-decoration-color: #008000\">'Either $10 or 5% of the amount of each transaction, whichever is greater.'</span>,\n",
       "            <span style=\"color: #008000; text-decoration-color: #008000\">'example'</span>: <span style=\"color: #008000; text-decoration-color: #008000\">'None'</span>,\n",
       "            <span style=\"color: #008000; text-decoration-color: #008000\">'advertisement'</span>: <span style=\"color: #008000; text-decoration-color: #008000\">'None'</span>\n",
       "        <span style=\"font-weight: bold\">}</span>,\n",
       "        <span style=\"font-weight: bold\">{</span>\n",
       "            <span style=\"color: #008000; text-decoration-color: #008000\">'index'</span>: <span style=\"color: #008080; text-decoration-color: #008080; font-weight: bold\">5</span>,\n",
       "            <span style=\"color: #008000; text-decoration-color: #008000\">'name'</span>: <span style=\"color: #008000; text-decoration-color: #008000\">'foreign transactions'</span>,\n",
       "            <span style=\"color: #008000; text-decoration-color: #008000\">'explanation'</span>: <span style=\"color: #008000; text-decoration-color: #008000\">'transaction fee'</span>,\n",
       "            <span style=\"color: #008000; text-decoration-color: #008000\">'value'</span>: <span style=\"color: #008080; text-decoration-color: #008080; font-weight: bold\">3</span>,\n",
       "            <span style=\"color: #008000; text-decoration-color: #008000\">'description'</span>: <span style=\"color: #008000; text-decoration-color: #008000\">'3% of the amount of each transaction in U.S. dollars.'</span>,\n",
       "            <span style=\"color: #008000; text-decoration-color: #008000\">'example'</span>: <span style=\"color: #008000; text-decoration-color: #008000\">'None'</span>,\n",
       "            <span style=\"color: #008000; text-decoration-color: #008000\">'advertisement'</span>: <span style=\"color: #008000; text-decoration-color: #008000\">'None'</span>\n",
       "        <span style=\"font-weight: bold\">}</span>,\n",
       "        <span style=\"font-weight: bold\">{</span>\n",
       "            <span style=\"color: #008000; text-decoration-color: #008000\">'index'</span>: <span style=\"color: #008080; text-decoration-color: #008080; font-weight: bold\">6</span>,\n",
       "            <span style=\"color: #008000; text-decoration-color: #008000\">'name'</span>: <span style=\"color: #008000; text-decoration-color: #008000\">'late payment'</span>,\n",
       "            <span style=\"color: #008000; text-decoration-color: #008000\">'explanation'</span>: <span style=\"color: #008000; text-decoration-color: #008000\">'penalty fee'</span>,\n",
       "            <span style=\"color: #008000; text-decoration-color: #008000\">'value'</span>: <span style=\"color: #008080; text-decoration-color: #008080; font-weight: bold\">40</span>,\n",
       "            <span style=\"color: #008000; text-decoration-color: #008000\">'description'</span>: <span style=\"color: #008000; text-decoration-color: #008000\">'Up to $40.'</span>,\n",
       "            <span style=\"color: #008000; text-decoration-color: #008000\">'example'</span>: <span style=\"color: #008000; text-decoration-color: #008000\">'None'</span>,\n",
       "            <span style=\"color: #008000; text-decoration-color: #008000\">'advertisement'</span>: <span style=\"color: #008000; text-decoration-color: #008000\">'None'</span>\n",
       "        <span style=\"font-weight: bold\">}</span>,\n",
       "        <span style=\"font-weight: bold\">{</span>\n",
       "            <span style=\"color: #008000; text-decoration-color: #008000\">'index'</span>: <span style=\"color: #008080; text-decoration-color: #008080; font-weight: bold\">7</span>,\n",
       "            <span style=\"color: #008000; text-decoration-color: #008000\">'name'</span>: <span style=\"color: #008000; text-decoration-color: #008000\">'depth exceeded'</span>,\n",
       "            <span style=\"color: #008000; text-decoration-color: #008000\">'explanation'</span>: <span style=\"color: #008000; text-decoration-color: #008000\">'penalty fee'</span>,\n",
       "            <span style=\"color: #008000; text-decoration-color: #008000\">'value'</span>: <span style=\"color: #008080; text-decoration-color: #008080; font-weight: bold\">0</span>,\n",
       "            <span style=\"color: #008000; text-decoration-color: #008000\">'description'</span>: <span style=\"color: #008000; text-decoration-color: #008000\">'None'</span>,\n",
       "            <span style=\"color: #008000; text-decoration-color: #008000\">'example'</span>: <span style=\"color: #008000; text-decoration-color: #008000\">'None'</span>,\n",
       "            <span style=\"color: #008000; text-decoration-color: #008000\">'advertisement'</span>: <span style=\"color: #008000; text-decoration-color: #008000\">'None'</span>\n",
       "        <span style=\"font-weight: bold\">}</span>,\n",
       "        <span style=\"font-weight: bold\">{</span>\n",
       "            <span style=\"color: #008000; text-decoration-color: #008000\">'index'</span>: <span style=\"color: #008080; text-decoration-color: #008080; font-weight: bold\">8</span>,\n",
       "            <span style=\"color: #008000; text-decoration-color: #008000\">'name'</span>: <span style=\"color: #008000; text-decoration-color: #008000\">'return payment'</span>,\n",
       "            <span style=\"color: #008000; text-decoration-color: #008000\">'explanation'</span>: <span style=\"color: #008000; text-decoration-color: #008000\">'penalty fee'</span>,\n",
       "            <span style=\"color: #008000; text-decoration-color: #008000\">'value'</span>: <span style=\"color: #008080; text-decoration-color: #008080; font-weight: bold\">40</span>,\n",
       "            <span style=\"color: #008000; text-decoration-color: #008000\">'description'</span>: <span style=\"color: #008000; text-decoration-color: #008000\">'Up to $40.'</span>,\n",
       "            <span style=\"color: #008000; text-decoration-color: #008000\">'example'</span>: <span style=\"color: #008000; text-decoration-color: #008000\">'None'</span>,\n",
       "            <span style=\"color: #008000; text-decoration-color: #008000\">'advertisement'</span>: <span style=\"color: #008000; text-decoration-color: #008000\">'None'</span>\n",
       "        <span style=\"font-weight: bold\">}</span>,\n",
       "        <span style=\"font-weight: bold\">{</span>\n",
       "            <span style=\"color: #008000; text-decoration-color: #008000\">'index'</span>: <span style=\"color: #008080; text-decoration-color: #008080; font-weight: bold\">9</span>,\n",
       "            <span style=\"color: #008000; text-decoration-color: #008000\">'name'</span>: <span style=\"color: #008000; text-decoration-color: #008000\">'return check'</span>,\n",
       "            <span style=\"color: #008000; text-decoration-color: #008000\">'explanation'</span>: <span style=\"color: #008000; text-decoration-color: #008000\">'penalty fee'</span>,\n",
       "            <span style=\"color: #008000; text-decoration-color: #008000\">'value'</span>: <span style=\"color: #008080; text-decoration-color: #008080; font-weight: bold\">0</span>,\n",
       "            <span style=\"color: #008000; text-decoration-color: #008000\">'description'</span>: <span style=\"color: #008000; text-decoration-color: #008000\">'None'</span>,\n",
       "            <span style=\"color: #008000; text-decoration-color: #008000\">'example'</span>: <span style=\"color: #008000; text-decoration-color: #008000\">'None'</span>,\n",
       "            <span style=\"color: #008000; text-decoration-color: #008000\">'advertisement'</span>: <span style=\"color: #008000; text-decoration-color: #008000\">'None'</span>\n",
       "        <span style=\"font-weight: bold\">}</span>\n",
       "    <span style=\"font-weight: bold\">]</span>,\n",
       "    <span style=\"color: #008000; text-decoration-color: #008000\">'interest_rates'</span>: <span style=\"color: #008000; text-decoration-color: #008000\">'Purchase Annual Percentage Rate (APR) 0% Intro APR for the first 18 months that your Account</span>\n",
       "<span style=\"color: #008000; text-decoration-color: #008000\">is open. After that, 19.49%. This APR will vary with the market based on the Prime Rate. My Chase Loan SM APR </span>\n",
       "<span style=\"color: #008000; text-decoration-color: #008000\">19.49%. This APR will vary with the market based on the Prime Rate. Balance Transfer APR 0% Intro APR for the first</span>\n",
       "<span style=\"color: #008000; text-decoration-color: #008000\">18 months that your Account is open. After that, 19.49%. This APR will vary with the market based on the Prime </span>\n",
       "<span style=\"color: #008000; text-decoration-color: #008000\">Rate. Cash Advance APR 29.49%. This APR will vary with the market based on the Prime Rate. Penalty APR and When It </span>\n",
       "<span style=\"color: #008000; text-decoration-color: #008000\">Applies Up to 29.99%. This APR will vary with the market based on the Prime Rate.'</span>\n",
       "<span style=\"font-weight: bold\">}</span>\n",
       "</pre>\n"
      ],
      "text/plain": [
       "\u001b[1m{\u001b[0m\n",
       "    \u001b[32m'fees'\u001b[0m: \u001b[1m[\u001b[0m\n",
       "        \u001b[1m{\u001b[0m\n",
       "            \u001b[32m'index'\u001b[0m: \u001b[1;36m1\u001b[0m,\n",
       "            \u001b[32m'name'\u001b[0m: \u001b[32m'annual membership'\u001b[0m,\n",
       "            \u001b[32m'explanation'\u001b[0m: \u001b[32m'annual membership fee'\u001b[0m,\n",
       "            \u001b[32m'value'\u001b[0m: \u001b[1;36m0\u001b[0m,\n",
       "            \u001b[32m'description'\u001b[0m: \u001b[32m'None'\u001b[0m,\n",
       "            \u001b[32m'example'\u001b[0m: \u001b[32m'None'\u001b[0m,\n",
       "            \u001b[32m'advertisement'\u001b[0m: \u001b[32m'None'\u001b[0m\n",
       "        \u001b[1m}\u001b[0m,\n",
       "        \u001b[1m{\u001b[0m\n",
       "            \u001b[32m'index'\u001b[0m: \u001b[1;36m2\u001b[0m,\n",
       "            \u001b[32m'name'\u001b[0m: \u001b[32m'maximum recursion'\u001b[0m,\n",
       "            \u001b[32m'explanation'\u001b[0m: \u001b[32m'fixed finance charge'\u001b[0m,\n",
       "            \u001b[32m'value'\u001b[0m: \u001b[1;36m1.72\u001b[0m,\n",
       "            \u001b[32m'description'\u001b[0m: \u001b[32m'Monthly fee of 0% of the amount of each eligible purchase transaction or amount \u001b[0m\n",
       "\u001b[32mselected to create a My Chase Plan while in the 0% Intro Purchase APR period. After that, monthly fee of 1.72% of \u001b[0m\n",
       "\u001b[32mthe amount of each eligible purchase transaction or amount selected to create a My Chase Plan. The My Chase Plan \u001b[0m\n",
       "\u001b[32mFee will be determined at the time each My Chase Plan is created and will remain the same until the My Chase Plan \u001b[0m\n",
       "\u001b[32mis paid in full.'\u001b[0m,\n",
       "            \u001b[32m'example'\u001b[0m: \u001b[32m'None'\u001b[0m,\n",
       "            \u001b[32m'advertisement'\u001b[0m: \u001b[32m'None'\u001b[0m\n",
       "        \u001b[1m}\u001b[0m,\n",
       "        \u001b[1m{\u001b[0m\n",
       "            \u001b[32m'index'\u001b[0m: \u001b[1;36m3\u001b[0m,\n",
       "            \u001b[32m'name'\u001b[0m: \u001b[32m'balance transfers'\u001b[0m,\n",
       "            \u001b[32m'explanation'\u001b[0m: \u001b[32m'intro fee'\u001b[0m,\n",
       "            \u001b[32m'value'\u001b[0m: \u001b[1;36m5\u001b[0m,\n",
       "            \u001b[32m'description'\u001b[0m: \u001b[32m'Intro fee of either $5 or 3% of the amount of each transfer, whichever is greater, on \u001b[0m\n",
       "\u001b[32mtransfers made within 60 days of account opening. After that: Either $5 or 5% of the amount of each transfer, \u001b[0m\n",
       "\u001b[32mwhichever is greater.'\u001b[0m,\n",
       "            \u001b[32m'example'\u001b[0m: \u001b[32m'None'\u001b[0m,\n",
       "            \u001b[32m'advertisement'\u001b[0m: \u001b[32m'None'\u001b[0m\n",
       "        \u001b[1m}\u001b[0m,\n",
       "        \u001b[1m{\u001b[0m\n",
       "            \u001b[32m'index'\u001b[0m: \u001b[1;36m4\u001b[0m,\n",
       "            \u001b[32m'name'\u001b[0m: \u001b[32m'cash advances'\u001b[0m,\n",
       "            \u001b[32m'explanation'\u001b[0m: \u001b[32m'transaction fee'\u001b[0m,\n",
       "            \u001b[32m'value'\u001b[0m: \u001b[1;36m5\u001b[0m,\n",
       "            \u001b[32m'description'\u001b[0m: \u001b[32m'Either $10 or 5% of the amount of each transaction, whichever is greater.'\u001b[0m,\n",
       "            \u001b[32m'example'\u001b[0m: \u001b[32m'None'\u001b[0m,\n",
       "            \u001b[32m'advertisement'\u001b[0m: \u001b[32m'None'\u001b[0m\n",
       "        \u001b[1m}\u001b[0m,\n",
       "        \u001b[1m{\u001b[0m\n",
       "            \u001b[32m'index'\u001b[0m: \u001b[1;36m5\u001b[0m,\n",
       "            \u001b[32m'name'\u001b[0m: \u001b[32m'foreign transactions'\u001b[0m,\n",
       "            \u001b[32m'explanation'\u001b[0m: \u001b[32m'transaction fee'\u001b[0m,\n",
       "            \u001b[32m'value'\u001b[0m: \u001b[1;36m3\u001b[0m,\n",
       "            \u001b[32m'description'\u001b[0m: \u001b[32m'3% of the amount of each transaction in U.S. dollars.'\u001b[0m,\n",
       "            \u001b[32m'example'\u001b[0m: \u001b[32m'None'\u001b[0m,\n",
       "            \u001b[32m'advertisement'\u001b[0m: \u001b[32m'None'\u001b[0m\n",
       "        \u001b[1m}\u001b[0m,\n",
       "        \u001b[1m{\u001b[0m\n",
       "            \u001b[32m'index'\u001b[0m: \u001b[1;36m6\u001b[0m,\n",
       "            \u001b[32m'name'\u001b[0m: \u001b[32m'late payment'\u001b[0m,\n",
       "            \u001b[32m'explanation'\u001b[0m: \u001b[32m'penalty fee'\u001b[0m,\n",
       "            \u001b[32m'value'\u001b[0m: \u001b[1;36m40\u001b[0m,\n",
       "            \u001b[32m'description'\u001b[0m: \u001b[32m'Up to $40.'\u001b[0m,\n",
       "            \u001b[32m'example'\u001b[0m: \u001b[32m'None'\u001b[0m,\n",
       "            \u001b[32m'advertisement'\u001b[0m: \u001b[32m'None'\u001b[0m\n",
       "        \u001b[1m}\u001b[0m,\n",
       "        \u001b[1m{\u001b[0m\n",
       "            \u001b[32m'index'\u001b[0m: \u001b[1;36m7\u001b[0m,\n",
       "            \u001b[32m'name'\u001b[0m: \u001b[32m'depth exceeded'\u001b[0m,\n",
       "            \u001b[32m'explanation'\u001b[0m: \u001b[32m'penalty fee'\u001b[0m,\n",
       "            \u001b[32m'value'\u001b[0m: \u001b[1;36m0\u001b[0m,\n",
       "            \u001b[32m'description'\u001b[0m: \u001b[32m'None'\u001b[0m,\n",
       "            \u001b[32m'example'\u001b[0m: \u001b[32m'None'\u001b[0m,\n",
       "            \u001b[32m'advertisement'\u001b[0m: \u001b[32m'None'\u001b[0m\n",
       "        \u001b[1m}\u001b[0m,\n",
       "        \u001b[1m{\u001b[0m\n",
       "            \u001b[32m'index'\u001b[0m: \u001b[1;36m8\u001b[0m,\n",
       "            \u001b[32m'name'\u001b[0m: \u001b[32m'return payment'\u001b[0m,\n",
       "            \u001b[32m'explanation'\u001b[0m: \u001b[32m'penalty fee'\u001b[0m,\n",
       "            \u001b[32m'value'\u001b[0m: \u001b[1;36m40\u001b[0m,\n",
       "            \u001b[32m'description'\u001b[0m: \u001b[32m'Up to $40.'\u001b[0m,\n",
       "            \u001b[32m'example'\u001b[0m: \u001b[32m'None'\u001b[0m,\n",
       "            \u001b[32m'advertisement'\u001b[0m: \u001b[32m'None'\u001b[0m\n",
       "        \u001b[1m}\u001b[0m,\n",
       "        \u001b[1m{\u001b[0m\n",
       "            \u001b[32m'index'\u001b[0m: \u001b[1;36m9\u001b[0m,\n",
       "            \u001b[32m'name'\u001b[0m: \u001b[32m'return check'\u001b[0m,\n",
       "            \u001b[32m'explanation'\u001b[0m: \u001b[32m'penalty fee'\u001b[0m,\n",
       "            \u001b[32m'value'\u001b[0m: \u001b[1;36m0\u001b[0m,\n",
       "            \u001b[32m'description'\u001b[0m: \u001b[32m'None'\u001b[0m,\n",
       "            \u001b[32m'example'\u001b[0m: \u001b[32m'None'\u001b[0m,\n",
       "            \u001b[32m'advertisement'\u001b[0m: \u001b[32m'None'\u001b[0m\n",
       "        \u001b[1m}\u001b[0m\n",
       "    \u001b[1m]\u001b[0m,\n",
       "    \u001b[32m'interest_rates'\u001b[0m: \u001b[32m'Purchase Annual Percentage Rate \u001b[0m\u001b[32m(\u001b[0m\u001b[32mAPR\u001b[0m\u001b[32m)\u001b[0m\u001b[32m 0% Intro APR for the first 18 months that your Account\u001b[0m\n",
       "\u001b[32mis open. After that, 19.49%. This APR will vary with the market based on the Prime Rate. My Chase Loan SM APR \u001b[0m\n",
       "\u001b[32m19.49%. This APR will vary with the market based on the Prime Rate. Balance Transfer APR 0% Intro APR for the first\u001b[0m\n",
       "\u001b[32m18 months that your Account is open. After that, 19.49%. This APR will vary with the market based on the Prime \u001b[0m\n",
       "\u001b[32mRate. Cash Advance APR 29.49%. This APR will vary with the market based on the Prime Rate. Penalty APR and When It \u001b[0m\n",
       "\u001b[32mApplies Up to 29.99%. This APR will vary with the market based on the Prime Rate.'\u001b[0m\n",
       "\u001b[1m}\u001b[0m\n"
      ]
     },
     "metadata": {},
     "output_type": "display_data"
    }
   ],
   "source": [
    "rich.print(validated_response)"
   ]
  },
  {
   "cell_type": "markdown",
   "metadata": {},
   "source": [
    "## How to add versioning"
   ]
  },
  {
   "cell_type": "code",
   "execution_count": 18,
   "metadata": {},
   "outputs": [],
   "source": [
    "rail_str = \"\"\"\n",
    "<aiml version=\"0.1\">\n",
    "<prompt>\n",
    "\n",
    "Given the following document, answer the following questions. If the answer doesn't exist in the document, enter 'None'.\n",
    "\n",
    "{{document}}\n",
    "\n",
    "@xml_prefix_prompt\n",
    "\n",
    "{output_schema}\n",
    "\n",
    "@json_suffix_prompt</prompt>\n",
    "\n",
    "\n",
    "<output>\n",
    "    <list name=\"fees\" description=\"What fees and charges are associated with my account?\">\n",
    "        <object>\n",
    "            <integer name=\"index\" format=\"1-indexed\" />\n",
    "            <string name=\"name\" format=\"lower-case; two-words\" on-fail-lower-case=\"noop\" on-fail-two-words=\"reask\"/>\n",
    "            <string name=\"explanation\" format=\"one-line\" on-fail-one-line=\"noop\" />\n",
    "            <float name=\"value\" format=\"percentage\"/>\n",
    "            <string name=\"description\" format=\"length: 0 200\" on-fail-length=\"noop\" />\n",
    "            <string name=\"example\" required=\"True\" format=\"tone-twitter explain-high-quality\" />\n",
    "            <string name=\"advertisement\" format=\"tagline tv-ad\" />\n",
    "        </object>\n",
    "    </list>\n",
    "    <string name='interest_rates' description='What are the interest rates offered by the bank on savings and checking accounts, loans, and credit products?' format=\"one-line\" on-fail-one-line=\"noop\"/>\n",
    "</output>\n",
    "\n",
    "</aiml>\n",
    "\"\"\""
   ]
  },
  {
   "cell_type": "code",
   "execution_count": 14,
   "metadata": {},
   "outputs": [],
   "source": [
    "from lxml import etree as ET"
   ]
  },
  {
   "cell_type": "code",
   "execution_count": null,
   "metadata": {},
   "outputs": [],
   "source": []
  },
  {
   "cell_type": "code",
   "execution_count": 19,
   "metadata": {},
   "outputs": [],
   "source": [
    "parser = ET.XMLParser(encoding=\"utf-8\")\n",
    "parsed_rail = ET.fromstring(rail_str, parser=parser)"
   ]
  },
  {
   "cell_type": "code",
   "execution_count": 20,
   "metadata": {},
   "outputs": [
    {
     "data": {
      "text/plain": [
       "{'version': '0.1'}"
      ]
     },
     "execution_count": 20,
     "metadata": {},
     "output_type": "execute_result"
    }
   ],
   "source": [
    "parsed_rail.attrib"
   ]
  },
  {
   "cell_type": "code",
   "execution_count": null,
   "metadata": {},
   "outputs": [],
   "source": []
  }
 ],
 "metadata": {
  "kernelspec": {
   "display_name": "tiff-env",
   "language": "python",
   "name": "python3"
  },
  "language_info": {
   "codemirror_mode": {
    "name": "ipython",
    "version": 3
   },
   "file_extension": ".py",
   "mimetype": "text/x-python",
   "name": "python",
   "nbconvert_exporter": "python",
   "pygments_lexer": "ipython3",
   "version": "3.9.16"
  },
  "orig_nbformat": 4,
  "vscode": {
   "interpreter": {
    "hash": "ef14f49bbc779f2fde64ca0552c2a99d578405052f5b73f61279551da311a8a1"
   }
  }
 },
 "nbformat": 4,
 "nbformat_minor": 2
}
